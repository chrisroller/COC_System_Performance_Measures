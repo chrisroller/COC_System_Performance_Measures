{
  "nbformat": 4,
  "nbformat_minor": 0,
  "metadata": {
    "colab": {
      "provenance": [],
      "authorship_tag": "ABX9TyPvFN8qcNMhxTlddj0WSlrn",
      "include_colab_link": true
    },
    "kernelspec": {
      "name": "python3",
      "display_name": "Python 3"
    },
    "language_info": {
      "name": "python"
    }
  },
  "cells": [
    {
      "cell_type": "markdown",
      "metadata": {
        "id": "view-in-github",
        "colab_type": "text"
      },
      "source": [
        "<a href=\"https://colab.research.google.com/github/chrisroller/COC_System_Performance_Measures/blob/main/COC_Preliminary_Analysis.ipynb\" target=\"_parent\"><img src=\"https://colab.research.google.com/assets/colab-badge.svg\" alt=\"Open In Colab\"/></a>"
      ]
    },
    {
      "cell_type": "code",
      "execution_count": 2,
      "metadata": {
        "id": "_RYjoaiOdnBN"
      },
      "outputs": [],
      "source": [
        "import pandas as pd\n",
        "import seaborn as sns"
      ]
    },
    {
      "cell_type": "code",
      "source": [
        "excel_file = 'https://github.com/chrisroller/COC_System_Performance_Measures/raw/ac6241f6d6243bef6246d28157b88083031973f9/System-Performance-Measures-Data.xlsx'\n",
        "spm = pd.read_excel(excel_file, header = 1, sheet_name=[str(year) for year in range(2015, 2024)]) # Spits out a dict of ['Year'] keys and dataframe values"
      ],
      "metadata": {
        "id": "FnopnAuv5ENS"
      },
      "execution_count": 3,
      "outputs": []
    },
    {
      "cell_type": "code",
      "source": [
        "for year in spm:\n",
        "  print(f'{year}: {spm[year].shape}') # The number of COCs is contracting but the data collected within each one seems to be expanding"
      ],
      "metadata": {
        "colab": {
          "base_uri": "https://localhost:8080/"
        },
        "id": "63gSOFdt5Lbl",
        "outputId": "cec059cd-89a4-4799-ac30-fa2633c7a9a0"
      },
      "execution_count": 4,
      "outputs": [
        {
          "output_type": "stream",
          "name": "stdout",
          "text": [
            "2015: (405, 46)\n",
            "2016: (401, 46)\n",
            "2017: (397, 46)\n",
            "2018: (393, 81)\n",
            "2019: (394, 96)\n",
            "2020: (388, 96)\n",
            "2021: (388, 96)\n",
            "2022: (387, 96)\n",
            "2023: (387, 96)\n"
          ]
        }
      ]
    },
    {
      "cell_type": "code",
      "source": [
        "# Let's take a look at changes in those variables\n",
        "column_changes = {} # Gemini generated code\n",
        "for year in range(2015, 2024):\n",
        "    previous_year = str(year - 1)\n",
        "    current_year = str(year)\n",
        "    if year == 2015: # Plugged this in to keep a baseline of original variables\n",
        "        current_columns = set(spm[current_year].columns)\n",
        "        column_changes[current_year] = {\n",
        "            'added': list(current_columns),\n",
        "            'subtracted': []\n",
        "        }\n",
        "        continue\n",
        "\n",
        "    previous_columns = set(spm[previous_year].columns)\n",
        "    current_columns = set(spm[current_year].columns)\n",
        "\n",
        "    added_columns = list(current_columns - previous_columns)\n",
        "    subtracted_columns = list(previous_columns - current_columns)\n",
        "\n",
        "    column_changes[current_year] = {\n",
        "        'added': added_columns,\n",
        "        'subtracted': subtracted_columns\n",
        "    }\n",
        "\n",
        "display(column_changes) # Kind of frustrating to read but I don't suspect that you'll get much better with so many variables,\n",
        "# It at least offers a frame of reference\n",
        "# This kind of explains why they also created a file of SPM starting at 2018. The data quality goes up a lot around in 2018 --Adding exit and reentry data -- then they have a yearly total bed metric that gets recycled\n",
        "# (which is kind of terrible because it makes comparison harder).\n",
        "# I'm mostly interested in PNW data, especially Multnomah County and Clark County (OR and WA) -- being where I live."
      ],
      "metadata": {
        "colab": {
          "base_uri": "https://localhost:8080/",
          "height": 1000
        },
        "id": "FkZsaHOB5pLK",
        "outputId": "a0d01054-9923-4e9c-9eeb-e8ddd59192b1"
      },
      "execution_count": 7,
      "outputs": [
        {
          "output_type": "display_data",
          "data": {
            "text/plain": [
              "{'2015': {'added': ['Total Leavers increased non-employment cash income',\n",
              "   'Total HMIS Count',\n",
              "   'Total Stayers (persons)',\n",
              "   'Total Persons Exited to Permanent Housing',\n",
              "   'Total Persons Exiting Street Outreach',\n",
              "   'Total Persons Returns in 24 mths (should include both the 6- and 12-month cohort)',\n",
              "   '2015 CoC Award Amount\\n($0 indicates that an application was not submitted)',\n",
              "   'Total Persons Returns in 6 mths',\n",
              "   'Percent Stayers increased non-employment cash income',\n",
              "   'ES-SH-TH Median (Days)',\n",
              "   'ES-SH-TH Avg (Days)',\n",
              "   'Continuum of Care (CoC)',\n",
              "   'ES-SH-TH 1st Time Homeless',\n",
              "   'ES-SH Avg (Days)',\n",
              "   'Total Persons Returns in 12 mths (should include the 6-month cohort)',\n",
              "   'Total Non-DV Beds on 2015 HIC ES+TH',\n",
              "   'Percent Returns in 12 mths (should include the 6-month cohort)',\n",
              "   'Percent with Successful Exit',\n",
              "   'HUD CoC Number',\n",
              "   'Percent Returns in 24 mths (should include both the 6- and 12-month cohort)',\n",
              "   'ES-SH-TH-PH 1st Time Homeless',\n",
              "   '2015 Bed coverage Percent on HMIS for ES-TH Combined',\n",
              "   'Percent Returns in 6 mths',\n",
              "   'AHAR Part 1 CoC Category',\n",
              "   'Percent with Successful SO Outcome',\n",
              "   'Percent Leavers increased non-employment cash income',\n",
              "   'Total Leavers (persons)',\n",
              "   'Total Leavers increased earned income',\n",
              "   'Percent Leavers increased total income',\n",
              "   'Percent Leavers increased earned income',\n",
              "   'Total Persons Exiting PH (but not including PH-RRH)',\n",
              "   'Total Stayers increased earned income',\n",
              "   'Percent Stayers increased earned income',\n",
              "   'State',\n",
              "   'Total Persons Exited to Temporary Housing',\n",
              "   'Total Persons Exiting PH (but not including PH-RRH) Residing in PH for 6mos or more or exiting to Permanent Housing',\n",
              "   'Total Stayers increased non-employment cash income',\n",
              "   'Total Non-DV HMIS Beds on 2015 HIC ES+TH',\n",
              "   'Total Stayers increased total income',\n",
              "   'Percent Stayers increased total income',\n",
              "   'ES-SH Median (Days)',\n",
              "   'Total Persons Exiting ES, TH, SH, PH-RRH to Permanent Housing',\n",
              "   'Total Persons Exited (SO+ES+TH+SH+PH)',\n",
              "   'Total Leavers increased total income',\n",
              "   'Total Persons Exiting ES, TH, SH, PH-RRH',\n",
              "   'Percent with Successful Retention or Exit'],\n",
              "  'subtracted': []},\n",
              " '2016': {'added': ['Percent with Successful  ES, TH, SH, PH-RRH Exit',\n",
              "   'Total Persons Exiting Street Outreach (SO)',\n",
              "   'Total Persons Exiting PH or Remaining in PH at end of reporting period (measure excludes PH-RRH)',\n",
              "   'Total Persons Exited SO to Temporary Destinations',\n",
              "   '2016 Bed coverage Percent on HMIS for ES-TH Combined',\n",
              "   '2016 CoC Award Amount\\n($0 indicates that an application was not submitted)',\n",
              "   'Percent with Successful PH Retention or Exit',\n",
              "   'Total Persons Exited PH to permanent destinations or Remained in PH for 6+ mos (measure excludes PH-RRH)',\n",
              "   'Total Persons Exited SO to Permanent Destinations',\n",
              "   'Total Non-DV Beds on 2016 HIC ES+TH',\n",
              "   'Total Non-DV HMIS Beds on 2016 HIC ES+TH'],\n",
              "  'subtracted': ['Total Persons Exited to Permanent Housing',\n",
              "   'Total Non-DV HMIS Beds on 2015 HIC ES+TH',\n",
              "   'Total Persons Exiting Street Outreach',\n",
              "   'Total Persons Exiting PH (but not including PH-RRH)',\n",
              "   'Percent with Successful Exit',\n",
              "   'Total Non-DV Beds on 2015 HIC ES+TH',\n",
              "   '2015 CoC Award Amount\\n($0 indicates that an application was not submitted)',\n",
              "   'Total Persons Exited to Temporary Housing',\n",
              "   'Total Persons Exiting PH (but not including PH-RRH) Residing in PH for 6mos or more or exiting to Permanent Housing',\n",
              "   '2015 Bed coverage Percent on HMIS for ES-TH Combined',\n",
              "   'Percent with Successful Retention or Exit']},\n",
              " '2017': {'added': ['Total Non-DV Beds on 2017 HIC ES+TH',\n",
              "   '2017 Bed coverage Percent on HMIS for ES-TH Combined',\n",
              "   '2017 CoC Award Amount\\n($0 indicates that an application was not submitted)',\n",
              "   'Total Non-DV HMIS Beds on 2017 HIC ES+TH'],\n",
              "  'subtracted': ['2016 Bed coverage Percent on HMIS for ES-TH Combined',\n",
              "   '2016 CoC Award Amount\\n($0 indicates that an application was not submitted)',\n",
              "   'Total Non-DV Beds on 2016 HIC ES+TH',\n",
              "   'Total Non-DV HMIS Beds on 2016 HIC ES+TH']},\n",
              " '2018': {'added': ['Total Persons Returns in 24 mths (should include both the 6- and 12-month cohort).3',\n",
              "   'Percent Returns in 12 mths (should include the 6-month cohort).3',\n",
              "   'Percent Returns in 12 mths (should include the 6-month cohort).4',\n",
              "   'Total Persons Returns in 6 mths.2',\n",
              "   'Total Persons Returns in 24 mths (should include both the 6- and 12-month cohort).4',\n",
              "   'Total Persons Exited (TH)',\n",
              "   'Total Persons Exited (SO)',\n",
              "   'Total Non-DV HMIS Beds on 2018 HIC ES+TH',\n",
              "   '2018 CoC Award Amount\\n($0 indicates that an application was not submitted)',\n",
              "   'Percent Returns in 12 mths (should include the 6-month cohort).1',\n",
              "   'Total Persons Exited (SH)',\n",
              "   'Total Persons Returns in 12 mths (should include the 6-month cohort).4',\n",
              "   'Total Persons Returns in 12 mths (should include the 6-month cohort).2',\n",
              "   'Total Persons Returns in 24 mths (should include both the 6- and 12-month cohort).5',\n",
              "   'Total Persons Exited (PH)',\n",
              "   'Percent Returns in 24 mths (should include both the 6- and 12-month cohort).2',\n",
              "   'Percent Returns in 24 mths (should include both the 6- and 12-month cohort).3',\n",
              "   'Total Persons Returns in 24 mths (should include both the 6- and 12-month cohort).1',\n",
              "   'Percent Returns in 12 mths (should include the 6-month cohort).2',\n",
              "   'Total Persons Returns in 6 mths.4',\n",
              "   'Percent Returns in 6 mths.3',\n",
              "   'Total Persons Returns in 12 mths (should include the 6-month cohort).5',\n",
              "   '2018 Bed coverage Percent on HMIS for ES-TH Combined',\n",
              "   'Percent Returns in 6 mths.4',\n",
              "   'Percent Returns in 6 mths.5',\n",
              "   'Total Persons Returns in 6 mths.1',\n",
              "   'Percent Returns in 24 mths (should include both the 6- and 12-month cohort).4',\n",
              "   'Percent Returns in 12 mths (should include the 6-month cohort).5',\n",
              "   'Percent Returns in 6 mths.1',\n",
              "   'Percent Returns in 24 mths (should include both the 6- and 12-month cohort).1',\n",
              "   'Total Persons Returns in 6 mths.3',\n",
              "   'Total Persons Returns in 24 mths (should include both the 6- and 12-month cohort).2',\n",
              "   'Total Non-DV Beds on 2018 HIC ES+TH',\n",
              "   'Total Persons Exited (ES)',\n",
              "   'Total Persons Returns in 12 mths (should include the 6-month cohort).3',\n",
              "   'Total Persons Returns in 6 mths.5',\n",
              "   'Percent Returns in 6 mths.2',\n",
              "   'Total Persons Returns in 12 mths (should include the 6-month cohort).1',\n",
              "   'Percent Returns in 24 mths (should include both the 6- and 12-month cohort).5'],\n",
              "  'subtracted': ['Total Non-DV Beds on 2017 HIC ES+TH',\n",
              "   '2017 Bed coverage Percent on HMIS for ES-TH Combined',\n",
              "   '2017 CoC Award Amount\\n($0 indicates that an application was not submitted)',\n",
              "   'Total Non-DV HMIS Beds on 2017 HIC ES+TH']},\n",
              " '2019': {'added': ['Unnamed: 1',\n",
              "   'HMIS DQ Unknown Destinations - ES',\n",
              "   'HMIS DQ Exits Universe - SO',\n",
              "   'HMIS DQ Unknown Destinations - TH',\n",
              "   'Unnamed: 4',\n",
              "   'HMIS DQ Exits Universe - RRH',\n",
              "   'HMIS DQ Unknown Destinations - SO',\n",
              "   'Unnamed: 2',\n",
              "   'HMIS DQ Exits Universe - TH',\n",
              "   'Total Non-DV HMIS Beds on 2019 HIC ES+TH',\n",
              "   'HMIS DQ Unknown Destinations - PSH',\n",
              "   'Total Non-DV Beds on 2019 HIC ES+TH',\n",
              "   'Unnamed: 0',\n",
              "   'HMIS DQ - RRH Percent Unknown Destinations',\n",
              "   'HMIS DQ - ES Percent Unknown Destinations',\n",
              "   'HMIS DQ - PSH Percent Unknown Destinations',\n",
              "   'HMIS DQ Exits Universe - ES',\n",
              "   '2019 Bed coverage Percent on HMIS for ES-TH Combined',\n",
              "   'HMIS DQ Exits Universe - PSH',\n",
              "   'HMIS DQ - SO Percent Unknown Destinations',\n",
              "   'HMIS DQ - TH Percent Unknown Destinations',\n",
              "   '2019 CoC Award Amount\\n($0 indicates that an application was not submitted)',\n",
              "   'HMIS DQ Unknown Destinations - RRH'],\n",
              "  'subtracted': ['2018 Bed coverage Percent on HMIS for ES-TH Combined',\n",
              "   'Continuum of Care (CoC)',\n",
              "   'HUD CoC Number',\n",
              "   'Total Non-DV HMIS Beds on 2018 HIC ES+TH',\n",
              "   '2018 CoC Award Amount\\n($0 indicates that an application was not submitted)',\n",
              "   'State',\n",
              "   'AHAR Part 1 CoC Category',\n",
              "   'Total Non-DV Beds on 2018 HIC ES+TH']},\n",
              " '2020': {'added': ['Total Non-DV Beds on 2020 HIC ES+TH',\n",
              "   '2020 Bed coverage Percent on HMIS for ES-TH Combined',\n",
              "   '2020 CoC Award Amount\\n($0 indicates that an application was not submitted)',\n",
              "   'Total Non-DV HMIS Beds on 2020 HIC ES+TH'],\n",
              "  'subtracted': ['Total Non-DV Beds on 2019 HIC ES+TH',\n",
              "   'Total Non-DV HMIS Beds on 2019 HIC ES+TH',\n",
              "   '2019 CoC Award Amount\\n($0 indicates that an application was not submitted)',\n",
              "   '2019 Bed coverage Percent on HMIS for ES-TH Combined']},\n",
              " '2021': {'added': ['Unnamed: 3',\n",
              "   '2021 Bed coverage Percent on HMIS for ES-TH Combined',\n",
              "   'Total Non-DV HMIS Beds on 2021 HIC ES+TH',\n",
              "   'Total Non-DV Beds on 2021 HIC ES+TH'],\n",
              "  'subtracted': ['Total Non-DV Beds on 2020 HIC ES+TH',\n",
              "   '2020 Bed coverage Percent on HMIS for ES-TH Combined',\n",
              "   '2020 CoC Award Amount\\n($0 indicates that an application was not submitted)',\n",
              "   'Total Non-DV HMIS Beds on 2020 HIC ES+TH']},\n",
              " '2022': {'added': ['2022 Bed coverage Percent on HMIS for ES-TH Combined',\n",
              "   'Total Non-DV Beds on 2022 HIC ES+TH',\n",
              "   'Total Non-DV HMIS Beds on 2022 HIC ES+TH'],\n",
              "  'subtracted': ['Total Non-DV HMIS Beds on 2021 HIC ES+TH',\n",
              "   '2021 Bed coverage Percent on HMIS for ES-TH Combined',\n",
              "   'Total Non-DV Beds on 2021 HIC ES+TH']},\n",
              " '2023': {'added': ['Total Year Round beds in HMIS or Comparable Databases in 2023 HIC',\n",
              "   'Total Year Round (non-EHV and non-disaster) beds in 2023 HIC',\n",
              "   '2023 Bed coverage Percent '],\n",
              "  'subtracted': ['2022 Bed coverage Percent on HMIS for ES-TH Combined',\n",
              "   'Total Non-DV Beds on 2022 HIC ES+TH',\n",
              "   'Total Non-DV HMIS Beds on 2022 HIC ES+TH']}}"
            ]
          },
          "metadata": {}
        }
      ]
    },
    {
      "cell_type": "code",
      "source": [],
      "metadata": {
        "id": "DZ4Rh0wK7D4P"
      },
      "execution_count": 24,
      "outputs": []
    },
    {
      "cell_type": "code",
      "source": [],
      "metadata": {
        "id": "CTDLKKcq-W6d"
      },
      "execution_count": null,
      "outputs": []
    }
  ]
}